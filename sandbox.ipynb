{
 "cells": [
  {
   "cell_type": "markdown",
   "id": "ab289ca3",
   "metadata": {},
   "source": [
    "# sandbox "
   ]
  },
  {
   "cell_type": "code",
   "execution_count": 1,
   "id": "2f3a7d70",
   "metadata": {
    "ExecuteTime": {
     "end_time": "2021-11-14T17:55:50.499389Z",
     "start_time": "2021-11-14T17:55:50.480930Z"
    }
   },
   "outputs": [],
   "source": [
    "import numpy as np "
   ]
  },
  {
   "cell_type": "code",
   "execution_count": 3,
   "id": "a748da03",
   "metadata": {
    "ExecuteTime": {
     "end_time": "2021-11-14T17:56:11.236653Z",
     "start_time": "2021-11-14T17:56:11.221695Z"
    }
   },
   "outputs": [
    {
     "data": {
      "text/plain": [
       "array([1., 1., 1.])"
      ]
     },
     "execution_count": 3,
     "metadata": {},
     "output_type": "execute_result"
    }
   ],
   "source": [
    "np.ones(shape=3)"
   ]
  },
  {
   "cell_type": "code",
   "execution_count": null,
   "id": "fe23147f",
   "metadata": {
    "ExecuteTime": {
     "end_time": "2021-11-13T22:48:11.731918Z",
     "start_time": "2021-11-13T22:48:11.718954Z"
    }
   },
   "outputs": [],
   "source": []
  },
  {
   "cell_type": "code",
   "execution_count": 5,
   "id": "49697883",
   "metadata": {
    "ExecuteTime": {
     "end_time": "2021-11-14T18:01:18.310965Z",
     "start_time": "2021-11-14T18:01:18.293015Z"
    }
   },
   "outputs": [],
   "source": [
    "a = np.ones(shape=4, dtype='?')"
   ]
  },
  {
   "cell_type": "code",
   "execution_count": 6,
   "id": "b00ea77f",
   "metadata": {
    "ExecuteTime": {
     "end_time": "2021-11-14T18:01:22.344191Z",
     "start_time": "2021-11-14T18:01:22.337211Z"
    }
   },
   "outputs": [],
   "source": [
    "a[3] = False"
   ]
  },
  {
   "cell_type": "code",
   "execution_count": 7,
   "id": "132727a8",
   "metadata": {
    "ExecuteTime": {
     "end_time": "2021-11-14T18:01:24.219187Z",
     "start_time": "2021-11-14T18:01:24.208217Z"
    }
   },
   "outputs": [
    {
     "data": {
      "text/plain": [
       "array([ True,  True,  True, False])"
      ]
     },
     "execution_count": 7,
     "metadata": {},
     "output_type": "execute_result"
    }
   ],
   "source": [
    "a"
   ]
  },
  {
   "cell_type": "code",
   "execution_count": 19,
   "id": "2a2efbbe",
   "metadata": {
    "ExecuteTime": {
     "end_time": "2021-11-14T18:49:16.296610Z",
     "start_time": "2021-11-14T18:49:16.278153Z"
    }
   },
   "outputs": [],
   "source": [
    "def pp(a): \n",
    "    print(a)\n",
    "    return True "
   ]
  },
  {
   "cell_type": "code",
   "execution_count": 22,
   "id": "cc8cebfb",
   "metadata": {
    "ExecuteTime": {
     "end_time": "2021-11-14T18:49:37.484377Z",
     "start_time": "2021-11-14T18:49:37.468420Z"
    }
   },
   "outputs": [
    {
     "name": "stdout",
     "output_type": "stream",
     "text": [
      "[6 7]\n",
      "[6 7]\n",
      "[8 3]\n",
      "[8 3]\n",
      "[9 7]\n",
      "[9 7]\n",
      "[5 1]\n",
      "[5 1]\n",
      "[6 3]\n",
      "[6 3]\n"
     ]
    }
   ],
   "source": [
    "\n",
    "ships = [('destroyer', 2), ('submarine', 3), ('cruiser', 3), \n",
    "         ('battleship', 4), ('carrier', 5)] \n",
    "\n",
    "# TODO implement more ship presets?  \n",
    "\n",
    "for ship in ships: \n",
    "    name, size = ship\n",
    "    \n",
    "    \n",
    "\n",
    "for ship in ships: \n",
    "    name, size = ship \n",
    "\n",
    "    if pp(coord := np.random.randint(0, 10, size=2)): \n",
    "        print(coord)"
   ]
  },
  {
   "cell_type": "code",
   "execution_count": 18,
   "id": "faaba425",
   "metadata": {
    "ExecuteTime": {
     "end_time": "2021-11-14T18:49:07.591802Z",
     "start_time": "2021-11-14T18:49:07.575845Z"
    }
   },
   "outputs": [
    {
     "data": {
      "text/plain": [
       "'carrier'"
      ]
     },
     "execution_count": 18,
     "metadata": {},
     "output_type": "execute_result"
    }
   ],
   "source": [
    "name"
   ]
  },
  {
   "cell_type": "code",
   "execution_count": null,
   "id": "7c0d3cac",
   "metadata": {},
   "outputs": [],
   "source": [
    "np.random.choice()"
   ]
  },
  {
   "cell_type": "code",
   "execution_count": null,
   "id": "a9ff9f4a",
   "metadata": {},
   "outputs": [],
   "source": []
  },
  {
   "cell_type": "code",
   "execution_count": 25,
   "id": "43ef6758",
   "metadata": {
    "ExecuteTime": {
     "end_time": "2021-11-14T18:53:36.248053Z",
     "start_time": "2021-11-14T18:53:36.237082Z"
    }
   },
   "outputs": [],
   "source": [
    "a = np.zeros(shape=(10, 10))\n",
    "\n",
    "a[1, 2] = 91"
   ]
  },
  {
   "cell_type": "code",
   "execution_count": 26,
   "id": "589e4a39",
   "metadata": {
    "ExecuteTime": {
     "end_time": "2021-11-14T18:53:37.499217Z",
     "start_time": "2021-11-14T18:53:37.487250Z"
    }
   },
   "outputs": [
    {
     "data": {
      "text/plain": [
       "array([[ 0.,  0.,  0.,  0.,  0.,  0.,  0.,  0.,  0.,  0.],\n",
       "       [ 0.,  0., 91.,  0.,  0.,  0.,  0.,  0.,  0.,  0.],\n",
       "       [ 0.,  0.,  0.,  0.,  0.,  0.,  0.,  0.,  0.,  0.],\n",
       "       [ 0.,  0.,  0.,  0.,  0.,  0.,  0.,  0.,  0.,  0.],\n",
       "       [ 0.,  0.,  0.,  0.,  0.,  0.,  0.,  0.,  0.,  0.],\n",
       "       [ 0.,  0.,  0.,  0.,  0.,  0.,  0.,  0.,  0.,  0.],\n",
       "       [ 0.,  0.,  0.,  0.,  0.,  0.,  0.,  0.,  0.,  0.],\n",
       "       [ 0.,  0.,  0.,  0.,  0.,  0.,  0.,  0.,  0.,  0.],\n",
       "       [ 0.,  0.,  0.,  0.,  0.,  0.,  0.,  0.,  0.,  0.],\n",
       "       [ 0.,  0.,  0.,  0.,  0.,  0.,  0.,  0.,  0.,  0.]])"
      ]
     },
     "execution_count": 26,
     "metadata": {},
     "output_type": "execute_result"
    }
   ],
   "source": [
    "a"
   ]
  },
  {
   "cell_type": "code",
   "execution_count": 29,
   "id": "bf453d21",
   "metadata": {
    "ExecuteTime": {
     "end_time": "2021-11-14T19:09:25.104197Z",
     "start_time": "2021-11-14T19:09:25.089238Z"
    }
   },
   "outputs": [
    {
     "ename": "IndexError",
     "evalue": "index 100 is out of bounds for axis 1 with size 10",
     "output_type": "error",
     "traceback": [
      "\u001b[1;31m---------------------------------------------------------------------------\u001b[0m",
      "\u001b[1;31mIndexError\u001b[0m                                Traceback (most recent call last)",
      "\u001b[1;32m~\\AppData\\Local\\Temp/ipykernel_4392/2663324446.py\u001b[0m in \u001b[0;36m<module>\u001b[1;34m\u001b[0m\n\u001b[1;32m----> 1\u001b[1;33m \u001b[0ma\u001b[0m\u001b[1;33m[\u001b[0m\u001b[1;36m0\u001b[0m\u001b[1;33m,\u001b[0m \u001b[1;36m100\u001b[0m\u001b[1;33m]\u001b[0m \u001b[1;33m!=\u001b[0m \u001b[1;36m0\u001b[0m\u001b[1;33m\u001b[0m\u001b[1;33m\u001b[0m\u001b[0m\n\u001b[0m",
      "\u001b[1;31mIndexError\u001b[0m: index 100 is out of bounds for axis 1 with size 10"
     ]
    }
   ],
   "source": [
    "a[0, 100] != 0"
   ]
  },
  {
   "cell_type": "code",
   "execution_count": null,
   "id": "7129bef5",
   "metadata": {},
   "outputs": [],
   "source": []
  },
  {
   "cell_type": "code",
   "execution_count": null,
   "id": "e51df614",
   "metadata": {},
   "outputs": [],
   "source": []
  },
  {
   "cell_type": "code",
   "execution_count": null,
   "id": "7fd7379f",
   "metadata": {},
   "outputs": [],
   "source": []
  },
  {
   "cell_type": "code",
   "execution_count": 30,
   "id": "3bc3175d",
   "metadata": {
    "ExecuteTime": {
     "end_time": "2021-11-14T19:10:30.758848Z",
     "start_time": "2021-11-14T19:10:30.741894Z"
    }
   },
   "outputs": [],
   "source": [
    "pos = np.random.randint(0, 10, size=2)"
   ]
  },
  {
   "cell_type": "code",
   "execution_count": 33,
   "id": "1ffde77f",
   "metadata": {
    "ExecuteTime": {
     "end_time": "2021-11-14T19:10:46.197675Z",
     "start_time": "2021-11-14T19:10:46.192688Z"
    }
   },
   "outputs": [
    {
     "name": "stdout",
     "output_type": "stream",
     "text": [
      "[6 6]\n"
     ]
    },
    {
     "data": {
      "text/plain": [
       "array([7, 6])"
      ]
     },
     "execution_count": 33,
     "metadata": {},
     "output_type": "execute_result"
    }
   ],
   "source": [
    "print(pos)\n",
    "pos + (1, 0)"
   ]
  },
  {
   "cell_type": "code",
   "execution_count": null,
   "id": "bd5a4965",
   "metadata": {},
   "outputs": [],
   "source": []
  },
  {
   "cell_type": "code",
   "execution_count": null,
   "id": "58bbd279",
   "metadata": {},
   "outputs": [],
   "source": []
  },
  {
   "cell_type": "code",
   "execution_count": null,
   "id": "9c70334a",
   "metadata": {},
   "outputs": [],
   "source": []
  },
  {
   "cell_type": "code",
   "execution_count": null,
   "id": "65c6f08d",
   "metadata": {},
   "outputs": [],
   "source": []
  },
  {
   "cell_type": "code",
   "execution_count": null,
   "id": "db705d21",
   "metadata": {},
   "outputs": [],
   "source": []
  },
  {
   "cell_type": "code",
   "execution_count": null,
   "id": "1852b605",
   "metadata": {},
   "outputs": [],
   "source": []
  },
  {
   "cell_type": "code",
   "execution_count": null,
   "id": "015de99b",
   "metadata": {},
   "outputs": [],
   "source": []
  }
 ],
 "metadata": {
  "kernelspec": {
   "display_name": "Python 3 (ipykernel)",
   "language": "python",
   "name": "python3"
  },
  "language_info": {
   "codemirror_mode": {
    "name": "ipython",
    "version": 3
   },
   "file_extension": ".py",
   "mimetype": "text/x-python",
   "name": "python",
   "nbconvert_exporter": "python",
   "pygments_lexer": "ipython3",
   "version": "3.9.7"
  },
  "toc": {
   "base_numbering": 1,
   "nav_menu": {},
   "number_sections": true,
   "sideBar": true,
   "skip_h1_title": false,
   "title_cell": "Table of Contents",
   "title_sidebar": "Contents",
   "toc_cell": false,
   "toc_position": {},
   "toc_section_display": true,
   "toc_window_display": false
  },
  "varInspector": {
   "cols": {
    "lenName": 16,
    "lenType": 16,
    "lenVar": 40
   },
   "kernels_config": {
    "python": {
     "delete_cmd_postfix": "",
     "delete_cmd_prefix": "del ",
     "library": "var_list.py",
     "varRefreshCmd": "print(var_dic_list())"
    },
    "r": {
     "delete_cmd_postfix": ") ",
     "delete_cmd_prefix": "rm(",
     "library": "var_list.r",
     "varRefreshCmd": "cat(var_dic_list()) "
    }
   },
   "types_to_exclude": [
    "module",
    "function",
    "builtin_function_or_method",
    "instance",
    "_Feature"
   ],
   "window_display": false
  }
 },
 "nbformat": 4,
 "nbformat_minor": 5
}
