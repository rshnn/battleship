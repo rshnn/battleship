{
 "cells": [
  {
   "cell_type": "markdown",
   "id": "ab289ca3",
   "metadata": {},
   "source": [
    "# sandbox "
   ]
  },
  {
   "cell_type": "code",
   "execution_count": 1,
   "id": "a15994ce",
   "metadata": {
    "ExecuteTime": {
     "end_time": "2021-11-15T00:21:58.074465Z",
     "start_time": "2021-11-15T00:21:58.061499Z"
    }
   },
   "outputs": [],
   "source": [
    "from board import Board"
   ]
  },
  {
   "cell_type": "code",
   "execution_count": 12,
   "id": "015de99b",
   "metadata": {
    "ExecuteTime": {
     "end_time": "2021-11-15T00:22:16.941362Z",
     "start_time": "2021-11-15T00:22:16.925405Z"
    }
   },
   "outputs": [],
   "source": [
    "board = Board()"
   ]
  },
  {
   "cell_type": "code",
   "execution_count": 13,
   "id": "8be188b9",
   "metadata": {
    "ExecuteTime": {
     "end_time": "2021-11-15T00:22:17.902296Z",
     "start_time": "2021-11-15T00:22:17.891325Z"
    }
   },
   "outputs": [
    {
     "data": {
      "text/plain": [
       "array([[0., 0., 0., 0., 0., 0., 0., 0., 0., 0.],\n",
       "       [0., 0., 0., 0., 0., 0., 0., 0., 0., 0.],\n",
       "       [0., 0., 0., 0., 0., 0., 0., 0., 0., 0.],\n",
       "       [0., 0., 0., 0., 0., 0., 0., 0., 0., 0.],\n",
       "       [0., 0., 0., 0., 0., 0., 0., 0., 0., 0.],\n",
       "       [0., 0., 0., 0., 0., 0., 0., 0., 0., 0.],\n",
       "       [0., 0., 0., 0., 0., 0., 0., 0., 0., 0.],\n",
       "       [0., 0., 0., 0., 0., 0., 0., 0., 0., 0.],\n",
       "       [0., 0., 0., 0., 0., 0., 0., 0., 0., 0.],\n",
       "       [0., 0., 0., 0., 0., 0., 0., 0., 0., 0.]])"
      ]
     },
     "execution_count": 13,
     "metadata": {},
     "output_type": "execute_result"
    }
   ],
   "source": [
    "board.print()"
   ]
  },
  {
   "cell_type": "code",
   "execution_count": 14,
   "id": "1c2facfd",
   "metadata": {
    "ExecuteTime": {
     "end_time": "2021-11-15T00:22:21.745524Z",
     "start_time": "2021-11-15T00:22:21.729566Z"
    }
   },
   "outputs": [
    {
     "name": "stdout",
     "output_type": "stream",
     "text": [
      "spawning destroyer\n",
      "found valid ship placement\n",
      "spawning submarine\n",
      "found valid ship placement\n",
      "spawning cruiser\n",
      "found valid ship placement\n",
      "spawning battleship\n",
      "found valid ship placement\n",
      "spawning carrier\n",
      "found valid ship placement\n"
     ]
    }
   ],
   "source": [
    "board._spawn_ships()"
   ]
  },
  {
   "cell_type": "code",
   "execution_count": 15,
   "id": "eab430af",
   "metadata": {
    "ExecuteTime": {
     "end_time": "2021-11-15T00:22:22.948805Z",
     "start_time": "2021-11-15T00:22:22.932342Z"
    }
   },
   "outputs": [
    {
     "data": {
      "text/plain": [
       "array([[0., 0., 0., 0., 0., 0., 0., 0., 0., 0.],\n",
       "       [0., 0., 2., 2., 2., 0., 0., 0., 0., 0.],\n",
       "       [0., 0., 0., 0., 0., 0., 0., 0., 0., 0.],\n",
       "       [0., 0., 0., 0., 4., 0., 0., 0., 5., 0.],\n",
       "       [0., 0., 0., 0., 4., 0., 0., 0., 5., 0.],\n",
       "       [0., 0., 0., 0., 4., 0., 0., 0., 5., 0.],\n",
       "       [0., 0., 0., 0., 4., 0., 0., 1., 5., 0.],\n",
       "       [0., 0., 0., 0., 0., 0., 0., 1., 5., 0.],\n",
       "       [0., 0., 0., 0., 0., 0., 0., 3., 3., 3.],\n",
       "       [0., 0., 0., 0., 0., 0., 0., 0., 0., 0.]])"
      ]
     },
     "execution_count": 15,
     "metadata": {},
     "output_type": "execute_result"
    }
   ],
   "source": [
    "board.print()"
   ]
  },
  {
   "cell_type": "code",
   "execution_count": null,
   "id": "3198bdf8",
   "metadata": {},
   "outputs": [],
   "source": []
  }
 ],
 "metadata": {
  "kernelspec": {
   "display_name": "Python 3 (ipykernel)",
   "language": "python",
   "name": "python3"
  },
  "language_info": {
   "codemirror_mode": {
    "name": "ipython",
    "version": 3
   },
   "file_extension": ".py",
   "mimetype": "text/x-python",
   "name": "python",
   "nbconvert_exporter": "python",
   "pygments_lexer": "ipython3",
   "version": "3.9.7"
  },
  "toc": {
   "base_numbering": 1,
   "nav_menu": {},
   "number_sections": true,
   "sideBar": true,
   "skip_h1_title": false,
   "title_cell": "Table of Contents",
   "title_sidebar": "Contents",
   "toc_cell": false,
   "toc_position": {},
   "toc_section_display": true,
   "toc_window_display": false
  },
  "varInspector": {
   "cols": {
    "lenName": 16,
    "lenType": 16,
    "lenVar": 40
   },
   "kernels_config": {
    "python": {
     "delete_cmd_postfix": "",
     "delete_cmd_prefix": "del ",
     "library": "var_list.py",
     "varRefreshCmd": "print(var_dic_list())"
    },
    "r": {
     "delete_cmd_postfix": ") ",
     "delete_cmd_prefix": "rm(",
     "library": "var_list.r",
     "varRefreshCmd": "cat(var_dic_list()) "
    }
   },
   "types_to_exclude": [
    "module",
    "function",
    "builtin_function_or_method",
    "instance",
    "_Feature"
   ],
   "window_display": false
  }
 },
 "nbformat": 4,
 "nbformat_minor": 5
}
